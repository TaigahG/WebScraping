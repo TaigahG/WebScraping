{
 "cells": [
  {
   "cell_type": "code",
   "execution_count": 1,
   "metadata": {},
   "outputs": [],
   "source": [
    "from bs4 import BeautifulSoup\n",
    "import requests\n",
    "import re\n",
    "import pandas as pd"
   ]
  },
  {
   "cell_type": "code",
   "execution_count": 2,
   "metadata": {},
   "outputs": [
    {
     "ename": "NameError",
     "evalue": "name 'requests' is not defined",
     "output_type": "error",
     "traceback": [
      "\u001b[0;31m---------------------------------------------------------------------------\u001b[0m",
      "\u001b[0;31mNameError\u001b[0m                                 Traceback (most recent call last)",
      "Cell \u001b[0;32mIn [2], line 4\u001b[0m\n\u001b[1;32m      2\u001b[0m url \u001b[39m=\u001b[39m \u001b[39m'\u001b[39m\u001b[39mhttps://www.imdb.com/title/tt10986410/episodes?ref_=tt_eps_sm\u001b[39m\u001b[39m'\u001b[39m\n\u001b[1;32m      3\u001b[0m headers \u001b[39m=\u001b[39m {\u001b[39m'\u001b[39m\u001b[39mUser-Agent\u001b[39m\u001b[39m'\u001b[39m: \u001b[39m'\u001b[39m\u001b[39mMozilla/5.0 (Macintosh; Intel Mac OS X 10_11_5) AppleWebKit/537.36 (KHTML, like Gecko) Chrome/50.0.2661.102 Safari/537.36\u001b[39m\u001b[39m'\u001b[39m}\n\u001b[0;32m----> 4\u001b[0m response \u001b[39m=\u001b[39m requests\u001b[39m.\u001b[39mget(url,headers\u001b[39m=\u001b[39mheaders)\n\u001b[1;32m      5\u001b[0m soup \u001b[39m=\u001b[39m BeautifulSoup(response\u001b[39m.\u001b[39mtext, \u001b[39m\"\u001b[39m\u001b[39mhtml\u001b[39m\u001b[39m\"\u001b[39m)\n\u001b[1;32m      6\u001b[0m title \u001b[39m=\u001b[39m soup\u001b[39m.\u001b[39mselect(\u001b[39m'\u001b[39m\u001b[39mh1.a-size-large\u001b[39m\u001b[39m'\u001b[39m)\n",
      "\u001b[0;31mNameError\u001b[0m: name 'requests' is not defined"
     ]
    }
   ],
   "source": [
    "headers = {'Accept-Language': 'en-US,en;q=0.8'}\n",
    "url = 'https://www.imdb.com/title/tt10986410/episodes?ref_=tt_eps_sm'\n",
    "headers = {'User-Agent': 'Mozilla/5.0 (Macintosh; Intel Mac OS X 10_11_5) AppleWebKit/537.36 (KHTML, like Gecko) Chrome/50.0.2661.102 Safari/537.36'}\n",
    "response = requests.get(url,headers=headers)\n",
    "soup = BeautifulSoup(response.text, \"html\")\n",
    "\n"
   ]
  },
  {
   "cell_type": "code",
   "execution_count": 4,
   "metadata": {},
   "outputs": [
    {
     "name": "stdout",
     "output_type": "stream",
     "text": [
      "<h4 class=\"sc-1318654d-7 fACRye\"><a class=\"sc-1318654d-8 bglHll\" href=\"/title/tt10989880/?ref_=ttep_ep1\">S1.E1 ∙ Pilot</a></h4>\n"
     ]
    }
   ],
   "source": [
    "eps = soup.select('h4.sc-1318654d-7')\n",
    "print(eps[0])"
   ]
  },
  {
   "cell_type": "code",
   "execution_count": 6,
   "metadata": {},
   "outputs": [],
   "source": [
    "titles = soup.select('h4.sc-1318654d-7 a')\n",
    "\n",
    "\n"
   ]
  },
  {
   "cell_type": "code",
   "execution_count": 7,
   "metadata": {},
   "outputs": [
    {
     "name": "stdout",
     "output_type": "stream",
     "text": [
      "Fri, Aug 14, 2020\n",
      "Fri, Aug 14, 2020\n",
      "Fri, Aug 14, 2020\n",
      "Fri, Aug 21, 2020\n",
      "Fri, Aug 28, 2020\n",
      "Fri, Sep 4, 2020\n",
      "Fri, Sep 11, 2020\n",
      "Fri, Sep 18, 2020\n",
      "Fri, Sep 25, 2020\n",
      "Fri, Oct 2, 2020\n"
     ]
    }
   ],
   "source": [
    "airdate = [t.get_text() for t in soup.select('span.sc-1318654d-10')]\n",
    "for i in airdate:\n",
    "    print(i)\n"
   ]
  },
  {
   "cell_type": "code",
   "execution_count": 12,
   "metadata": {},
   "outputs": [
    {
     "name": "stdout",
     "output_type": "stream",
     "text": [
      "\n",
      " American football coach Ted Lasso is hired by a wealthy divorcée to coach English soccer team AFC Richmond.\n",
      "\n",
      " It's Ted's first day of coaching, and fans aren't happy. He makes little headway but remains undeterred as the team plays its first match.\n",
      "\n",
      " To arrange an in-depth expose, Rebecca pairs cynical journalist Trent Crimm with Ted for a day. Ted and Roy venture into the community.\n",
      "\n",
      " Rebecca hosts the team's annual charity benefit, where Ted stages a reconciliation between Roy and Jamie.\n",
      "\n",
      " Ted reunites with his wife and son. Ted makes a bold choice and takes Jamie out of the game.\n",
      "\n",
      " When Jamie refuses to train, Ted turns to talented new signing Dani Rojas-and the team is struck by an age-old curse.\n",
      "\n",
      " Rebecca deals with her anniversary blues. Ted signs papers and has a small breakdown. An old friend of Rebecca introduces herself to Ted.\n",
      "\n",
      " Ted and Roy are both having relationship problems. Ted consults the Diamond Dogs while Roy lays it on the line with Keeley.\n",
      "\n",
      " After a series of mistakes on the pitch, pressure mounts to bench Roy. Rebecca finally reveals the truth to Ted.\n",
      "\n",
      " Richmond plays a climactic match that will determine the fates of Ted and his club.\n"
     ]
    }
   ],
   "source": [
    "desc =[t.get_text() for t in soup.select('div.ipc-html-content-inner-div')]\n",
    "for i in desc:\n",
    "    print(\"\\n\",i)"
   ]
  },
  {
   "cell_type": "code",
   "execution_count": 8,
   "metadata": {},
   "outputs": [
    {
     "name": "stdout",
     "output_type": "stream",
     "text": [
      "<a class=\"sc-1318654d-8 bglHll\" href=\"/title/tt10989880/?ref_=ttep_ep1\">S1.E1 ∙ Pilot</a>\n"
     ]
    }
   ],
   "source": [
    "links = soup.select('h4.sc-1318654d-7 a')\n",
    "print(links[0])"
   ]
  },
  {
   "cell_type": "code",
   "execution_count": 9,
   "metadata": {},
   "outputs": [
    {
     "name": "stdout",
     "output_type": "stream",
     "text": [
      "/title/tt10989880/?ref_=ttep_ep1\n"
     ]
    }
   ],
   "source": [
    "links=[]\n",
    "for a in soup.select('h4.sc-1318654d-7 a'):\n",
    "  links.append(a.attrs.get('href'))\n",
    "\n",
    "print(links[0])"
   ]
  },
  {
   "cell_type": "code",
   "execution_count": 10,
   "metadata": {},
   "outputs": [
    {
     "name": "stdout",
     "output_type": "stream",
     "text": [
      "7.8\n",
      "8.1\n",
      "8.5\n",
      "8.2\n",
      "8.9\n",
      "8.5\n",
      "9.0\n",
      "8.7\n",
      "8.6\n",
      "9.1\n",
      " (8.1K)\n",
      " (7.2K)\n",
      " (7.3K)\n",
      " (7K)\n",
      " (7.4K)\n",
      " (6.7K)\n",
      " (7.8K)\n",
      " (6.8K)\n",
      " (6.3K)\n",
      " (7.8K)\n"
     ]
    }
   ],
   "source": [
    "ratings = soup.select('span.ipc-rating-star--imdb')\n",
    "ratingTitle = [t.get_text()[0:3] for t in ratings]\n",
    "for i in ratingTitle:\n",
    "    print(i)\n",
    "vote = [t.get_text() for t in soup.select('span.ipc-rating-star--voteCount')]\n",
    "for i in vote:\n",
    "    print(i)\n",
    "\n",
    "\n"
   ]
  },
  {
   "cell_type": "code",
   "execution_count": 13,
   "metadata": {},
   "outputs": [],
   "source": [
    "listMov = []\n",
    "if len(titles) == len(ratings):\n",
    "    for i in range(len(titles)):\n",
    "        title_text = titles[i].get_text()\n",
    "        parts = [part.strip() for part in title_text.split('∙')]\n",
    "\n",
    "        if len(parts) >= 2:\n",
    "            season = parts[0]\n",
    "            episode_title = parts[1]\n",
    "\n",
    "            \n",
    "            data = {\n",
    "                \"season_and_epsNumber\": season,\n",
    "                \"title\": episode_title,\n",
    "                \"airdate\": airdate[i],\n",
    "                \"rating\": ratingTitle[i],\n",
    "                \"total_Votes\": vote[i],\n",
    "                \"desc\": desc[i]\n",
    "            }\n",
    "            listMov.append(data)"
   ]
  },
  {
   "cell_type": "code",
   "execution_count": 14,
   "metadata": {},
   "outputs": [
    {
     "data": {
      "text/html": [
       "<div>\n",
       "<style scoped>\n",
       "    .dataframe tbody tr th:only-of-type {\n",
       "        vertical-align: middle;\n",
       "    }\n",
       "\n",
       "    .dataframe tbody tr th {\n",
       "        vertical-align: top;\n",
       "    }\n",
       "\n",
       "    .dataframe thead th {\n",
       "        text-align: right;\n",
       "    }\n",
       "</style>\n",
       "<table border=\"1\" class=\"dataframe\">\n",
       "  <thead>\n",
       "    <tr style=\"text-align: right;\">\n",
       "      <th></th>\n",
       "      <th>season_and_epsNumber</th>\n",
       "      <th>title</th>\n",
       "      <th>airdate</th>\n",
       "      <th>rating</th>\n",
       "      <th>total_Votes</th>\n",
       "      <th>desc</th>\n",
       "    </tr>\n",
       "  </thead>\n",
       "  <tbody>\n",
       "    <tr>\n",
       "      <th>0</th>\n",
       "      <td>S1.E1</td>\n",
       "      <td>Pilot</td>\n",
       "      <td>Fri, Aug 14, 2020</td>\n",
       "      <td>7.8</td>\n",
       "      <td>(8.1K)</td>\n",
       "      <td>American football coach Ted Lasso is hired by ...</td>\n",
       "    </tr>\n",
       "    <tr>\n",
       "      <th>1</th>\n",
       "      <td>S1.E2</td>\n",
       "      <td>Biscuits</td>\n",
       "      <td>Fri, Aug 14, 2020</td>\n",
       "      <td>8.1</td>\n",
       "      <td>(7.2K)</td>\n",
       "      <td>It's Ted's first day of coaching, and fans are...</td>\n",
       "    </tr>\n",
       "    <tr>\n",
       "      <th>2</th>\n",
       "      <td>S1.E3</td>\n",
       "      <td>Trent Crimm: The Independent</td>\n",
       "      <td>Fri, Aug 14, 2020</td>\n",
       "      <td>8.5</td>\n",
       "      <td>(7.3K)</td>\n",
       "      <td>To arrange an in-depth expose, Rebecca pairs c...</td>\n",
       "    </tr>\n",
       "    <tr>\n",
       "      <th>3</th>\n",
       "      <td>S1.E4</td>\n",
       "      <td>For the Children</td>\n",
       "      <td>Fri, Aug 21, 2020</td>\n",
       "      <td>8.2</td>\n",
       "      <td>(7K)</td>\n",
       "      <td>Rebecca hosts the team's annual charity benefi...</td>\n",
       "    </tr>\n",
       "    <tr>\n",
       "      <th>4</th>\n",
       "      <td>S1.E5</td>\n",
       "      <td>Tan Lines</td>\n",
       "      <td>Fri, Aug 28, 2020</td>\n",
       "      <td>8.9</td>\n",
       "      <td>(7.4K)</td>\n",
       "      <td>Ted reunites with his wife and son. Ted makes ...</td>\n",
       "    </tr>\n",
       "  </tbody>\n",
       "</table>\n",
       "</div>"
      ],
      "text/plain": [
       "  season_and_epsNumber                         title            airdate  \\\n",
       "0                S1.E1                         Pilot  Fri, Aug 14, 2020   \n",
       "1                S1.E2                      Biscuits  Fri, Aug 14, 2020   \n",
       "2                S1.E3  Trent Crimm: The Independent  Fri, Aug 14, 2020   \n",
       "3                S1.E4              For the Children  Fri, Aug 21, 2020   \n",
       "4                S1.E5                     Tan Lines  Fri, Aug 28, 2020   \n",
       "\n",
       "  rating total_Votes                                               desc  \n",
       "0    7.8      (8.1K)  American football coach Ted Lasso is hired by ...  \n",
       "1    8.1      (7.2K)  It's Ted's first day of coaching, and fans are...  \n",
       "2    8.5      (7.3K)  To arrange an in-depth expose, Rebecca pairs c...  \n",
       "3    8.2        (7K)  Rebecca hosts the team's annual charity benefi...  \n",
       "4    8.9      (7.4K)  Ted reunites with his wife and son. Ted makes ...  "
      ]
     },
     "execution_count": 14,
     "metadata": {},
     "output_type": "execute_result"
    }
   ],
   "source": [
    "df = pd.DataFrame(listMov, columns = ['season_and_epsNumber', 'title', 'airdate', \"rating\", 'total_Votes', 'desc'])\n",
    "df.head()"
   ]
  },
  {
   "cell_type": "code",
   "execution_count": 15,
   "metadata": {},
   "outputs": [],
   "source": [
    "df.to_csv('series.csv')"
   ]
  },
  {
   "cell_type": "code",
   "execution_count": null,
   "metadata": {},
   "outputs": [],
   "source": []
  }
 ],
 "metadata": {
  "kernelspec": {
   "display_name": "Python 3.8.5 64-bit",
   "language": "python",
   "name": "python3"
  },
  "language_info": {
   "codemirror_mode": {
    "name": "ipython",
    "version": 3
   },
   "file_extension": ".py",
   "mimetype": "text/x-python",
   "name": "python",
   "nbconvert_exporter": "python",
   "pygments_lexer": "ipython3",
   "version": "3.8.5"
  },
  "orig_nbformat": 4,
  "vscode": {
   "interpreter": {
    "hash": "aee8b7b246df8f9039afb4144a1f6fd8d2ca17a180786b69acc140d282b71a49"
   }
  }
 },
 "nbformat": 4,
 "nbformat_minor": 2
}
